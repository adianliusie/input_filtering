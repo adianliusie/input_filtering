{
 "cells": [
  {
   "cell_type": "code",
   "execution_count": null,
   "metadata": {},
   "outputs": [
    {
     "name": "stderr",
     "output_type": "stream",
     "text": [
      "[nltk_data] Downloading package stopwords to /home/al826/nltk_data...\n",
      "[nltk_data]   Package stopwords is already up-to-date!\n"
     ]
    },
    {
     "name": "stdout",
     "output_type": "stream",
     "text": [
      "S /rds/user/al826/hpc-work/2022/data_pruning/input_pruning/tokenize-cache/imdb-bert-base-S.pkl\n"
     ]
    },
    {
     "name": "stderr",
     "output_type": "stream",
     "text": [
      "  0%|▏                                                            | 59/20000 [00:01<05:24, 61.46it/s]Token indices sequence length is longer than the specified maximum sequence length for this model (723 > 512). Running this sequence through the model will result in indexing errors\n",
      " 17%|█████████▊                                                 | 3314/20000 [01:05<05:21, 51.97it/s]"
     ]
    }
   ],
   "source": [
    "from src.data.handler import DataHandler\n",
    "\n",
    "data_handler = DataHandler('bert-base', 'S')\n",
    "train, dev, test = data_handler.prep_data('imdb')"
   ]
  },
  {
   "cell_type": "code",
   "execution_count": null,
   "metadata": {},
   "outputs": [],
   "source": [
    "num_tokens = sum([len(ex.input_ids) for ex in train])\n",
    "avg_tokens = num_tokens/len(train)\n",
    "print(avg_tokens)"
   ]
  },
  {
   "cell_type": "code",
   "execution_count": null,
   "metadata": {},
   "outputs": [],
   "source": []
  },
  {
   "cell_type": "code",
   "execution_count": 3,
   "metadata": {},
   "outputs": [
    {
     "name": "stderr",
     "output_type": "stream",
     "text": [
      "Reusing dataset cnn_dailymail (/home/al826/.cache/huggingface/datasets/ccdv___cnn_dailymail/3.0.0/3.0.0/0107f7388b5c6fae455a5661bcd134fc22da53ea75852027040d8d1e997f101f)\n"
     ]
    },
    {
     "data": {
      "application/vnd.jupyter.widget-view+json": {
       "model_id": "2574555235c14a00b631ec90139a0d65",
       "version_major": 2,
       "version_minor": 0
      },
      "text/plain": [
       "  0%|          | 0/3 [00:00<?, ?it/s]"
      ]
     },
     "metadata": {},
     "output_type": "display_data"
    }
   ],
   "source": [
    "from datasets import load_dataset\n",
    "\n",
    "data = load_dataset(\"ccdv/cnn_dailymail\", '3.0.0')\n",
    "train, dev, test = data['train'], data['validation'], data['test']\n"
   ]
  },
  {
   "cell_type": "code",
   "execution_count": 4,
   "metadata": {},
   "outputs": [],
   "source": [
    "train2 = list(train)"
   ]
  },
  {
   "cell_type": "code",
   "execution_count": 5,
   "metadata": {},
   "outputs": [
    {
     "name": "stdout",
     "output_type": "stream",
     "text": [
      "{'article': 'Kansas City, Missouri (CNN) -- The General Services Administration, already under investigation for lavish spending, allowed an employee to telecommute from Hawaii even though he is based at the GSA\\'s Kansas City, Missouri, office, a CNN investigation has found. It cost more than $24,000 for the business development specialist to travel to and from the mainland United States over the past year. He is among several hundred GSA \"virtual\" workers who also travel to various conferences and their home offices, costing the agency millions of dollars over the past three years. Under the program, employees work from home and may live in another state from the region in which they\\'re actually assigned. The Kansas City employee, who started his job in January 2011, is paid $84,440 and works from his home in Honolulu, a GSA representative confirmed. In the past year, according to GSA travel records, the employee has flown back to the mainland nine times for conferences and meetings. Four of those trips were to St. Louis; four were to Washington, with a side trip to Cincinnati; and one was to San Diego. The total cost to taxpayers was $24,221. Jason Klumb, the GSA\\'s regional administrator for Kansas City, defended the hire. \"The cost of that travel was included in the consideration of his candidacy as an employee as compared with the other applicants,\" Klumb said. \"And when factoring all of those in, it was determined that he was the best candidate, even in light of the cost that would be incurred.\" Klumb called the GSA\\'s teleworking program \"a successful program that\\'s going to lead to cost savings for taxpayers.\" But a GSA spokeswoman said, \"We are not going to defend this type of travel.\" And a GSA employee in Kansas City, who requested anonymity, said that hiring someone in Hawaii to work for the Kansas City region was ludicrous. \"It doesn\\'t make sense,\" the employee said. \"When you consider everything you need when you hire someone, it would have been better to look for someone in the Kansas City area. It would have reduced the cost of travel by at least 70 percent when you look at just the airfare of what it takes to from Honolulu to Washington, D.C., where a lot of business is done.\" Dan Tangherlini, who was appointed acting GSA administrator this year, said the agency was examining the cost of the entire teleworking program. \"I think the most important part for the GSA to think about is make sure we open ourselves up, avail ourselves to all the smart people in the country, but then also make sure we have a clear business case,\" he said. \"If we have someone who is working in Nebraska but reporting to Boston, there has to be a clear explanation for what value they\\'re providing, and you\\'ve got to give me the business case. You\\'ve got to explain to me why that\\'s a cost-effective move for the American people, and that\\'s a new standard that we\\'re asking everyone at GSA to adhere to.\" The GSA \"virtual employee\" program is different from telework programs offered by many private companies including CNN\\'s parent company, Turner Broadcasting, in which some employees are encouraged to work from home some days of the week, partially to reduce traffic congestion. The House Committee on Oversight and Government Reform requested details about the GSA\\'s teleworking program in June. That followed disclosures that 95 virtual employees, including 12 in supervisory positions, spent nearly $750,000 in travel costs between October 2010 and June 2011. \"The American people have a right to know that federal bureaucrats who enjoy the benefits of virtual work are eligible and responsible stewards of the taxpayer dollars that support the program,\" according to a letter from committee Chairman Rep. Darrell Issa, R-California, to the GSA. The details requested by Issa about the GSA program have not been provided to the committee. CNN also requested the information more than two months ago through the federal Freedom of Information Act but has been repeatedly told by the GSA that FOIA staff members have not finished compiling the material. The General Services Administration, which has more than 12,600 employees and a $26.3 billion budget, is a relatively obscure federal agency that handles government real estate and other non-military procurement. Congress launched an investigation into the GSA after a scathing inspector general\\'s report issued this year showed lavish spending -- $823,000 -- at the agency\\'s Western Regions Conference in Las Vegas in October 2010. The controversy became politically toxic after reports and video clips of the lavish conference were released. The revelation prompted taxpayer indignation, embarrassed the administration and put a spotlight on wasteful spending by the GSA. Jeff Neely, the GSA official who organized the conference, resigned, as did the agency\\'s administrator, Martha Johnson. Two of Johnson\\'s deputies were fired, and eight other employees left the agency. Tangherlini, a former Treasury Department official, took over as acting GSA administrator. In addition to the Las Vegas conference, the GSA apparently spent $330,000 to relocate an employee from Denver to Hawaii and probably millions more on other employees over a two-year period, according to a transcript of an interview with a GSA event planner. And 84 GSA employees, most of them supervisors or other senior staff -- all subjects of inspector general investigations -- are still collecting their bonuses, totaling more than $1 million in taxpayer money. In July, a CNN investigation revealed that the GSA\\'s Kansas City office spent more than $20,000 to send employees to cooking classes to build team spirit. While the classes do not amount to a significant sum of money in the world of trillion-dollar government budgets, insiders said it was part of the free-spending culture that went on for years at the GSA\\'s Kansas City regional headquarters. GSA spokeswoman Betsaida Alcantara said in a statement this year that all the agency\\'s practices are under a top-down review. CNN\\'s Sara Anwar, Elizabeth M. Nunez and Tom Cohen contributed to this report. Watch Erin Burnett weekdays 7pm ET. For the latest from Erin Burnett click here.', 'highlights': 'The employee in agency\\'s Kansas City office is among hundreds of \"virtual\" workers .\\nThe employee\\'s travel to and from the mainland U.S. last year cost more than $24,000 .\\nThe telecommuting program, like all GSA practices, is under review .', 'id': '00027e965c8264c35cc1bc55556db388da82b07f'}\n"
     ]
    }
   ],
   "source": [
    "print(train2[0])"
   ]
  },
  {
   "cell_type": "code",
   "execution_count": null,
   "metadata": {},
   "outputs": [],
   "source": []
  }
 ],
 "metadata": {
  "kernelspec": {
   "display_name": "Python 3 (ipykernel)",
   "language": "python",
   "name": "python3"
  },
  "language_info": {
   "codemirror_mode": {
    "name": "ipython",
    "version": 3
   },
   "file_extension": ".py",
   "mimetype": "text/x-python",
   "name": "python",
   "nbconvert_exporter": "python",
   "pygments_lexer": "ipython3",
   "version": "3.8.2"
  }
 },
 "nbformat": 4,
 "nbformat_minor": 4
}
